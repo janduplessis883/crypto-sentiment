{
 "cells": [
  {
   "cell_type": "markdown",
   "metadata": {},
   "source": [
    "<div class='alert' style='background-color: #1c1a1e; color: #f5f4f0; padding:16px 26px; border-radius:20px; font-size:40px;'><B>MONZO</b> - Bank Statement Rule Based Classification </div>\n",
    "<div style='margin:0px 26px; color:#1c1a1e; font-size:16px;'>\n",
    "<center>\n",
    "    <img src=\"https://github.com/janduplessis883/Money-Mate/raw/master/images/private.png\" width=\"250\">\n",
    "</center> \n",
    "    \n",
    "## Introduction\n",
    "\n",
    "In this notebook, we will explore the process of classifying transactions from a Monzo Bank statement using rule-based classification. Monzo is a popular digital bank, and its statements often contain detailed transaction data, which can be categorized for better financial management and analysis.\n",
    "\n",
    "The primary objective of this notebook is to demonstrate how to classify bank transactions into predefined categories such as \"Groceries,\" \"Travel,\" \"Eating Out,\" and others. This classification will help in understanding spending patterns, budgeting, and financial planning.\n",
    "\n",
    "### Key Steps in this Notebook:\n",
    "1. **Data Loading**: Importing the Monzo Bank statement data.\n",
    "2. **Data Preprocessing**: Cleaning and preparing the data for analysis.\n",
    "3. **Rule-Based Categorization**: Applying predefined rules to classify transactions into different categories.\n",
    "4. **Analysis and Visualization**: Summarizing and visualizing the categorized data to gain insights into spending behavior.\n",
    "\n",
    "By the end of this notebook, you will have a clear understanding of how rule-based classification can be applied to bank transaction data to facilitate better financial insights and management. Let's get started!\n",
    "</div>"
   ]
  },
  {
   "cell_type": "markdown",
   "metadata": {},
   "source": [
    "# Libraries & Data"
   ]
  },
  {
   "cell_type": "code",
   "execution_count": 1,
   "metadata": {},
   "outputs": [],
   "source": [
    "# Importing default Libraries\n",
    "import matplotlib.pyplot as plt\n",
    "import pandas as pd \n",
    "import numpy as np\n",
    "import seaborn as sns\n",
    "import warnings\n",
    "import datetime \n",
    "import os \n",
    "\n",
    "from params import DATA_PATH\n",
    "\n",
    "pd.options.display.max_rows = 1000\n",
    "pd.options.display.max_columns = 1000\n",
    "\n",
    "# Hi-resolution Plots and Matplotlib inline\n",
    "%config InlineBackend.figure_format = 'retina'\n",
    "%matplotlib inline\n",
    "\n",
    "# Set the maximum number of rows and columns to be displayed\n",
    "warnings.filterwarnings('ignore')\n",
    "\n",
    "# \"magic commands\" to enable autoreload of your imported packages\n",
    "%load_ext autoreload\n",
    "%autoreload 2"
   ]
  },
  {
   "cell_type": "markdown",
   "metadata": {},
   "source": [
    "## Loading Data"
   ]
  },
  {
   "cell_type": "code",
   "execution_count": 4,
   "metadata": {},
   "outputs": [
    {
     "data": {
      "text/html": [
       "<div>\n",
       "<style scoped>\n",
       "    .dataframe tbody tr th:only-of-type {\n",
       "        vertical-align: middle;\n",
       "    }\n",
       "\n",
       "    .dataframe tbody tr th {\n",
       "        vertical-align: top;\n",
       "    }\n",
       "\n",
       "    .dataframe thead th {\n",
       "        text-align: right;\n",
       "    }\n",
       "</style>\n",
       "<table border=\"1\" class=\"dataframe\">\n",
       "  <thead>\n",
       "    <tr style=\"text-align: right;\">\n",
       "      <th></th>\n",
       "      <th>Transaction ID</th>\n",
       "      <th>Date</th>\n",
       "      <th>Time</th>\n",
       "      <th>Type</th>\n",
       "      <th>Name</th>\n",
       "      <th>Emoji</th>\n",
       "      <th>Category</th>\n",
       "      <th>Amount</th>\n",
       "      <th>Currency</th>\n",
       "      <th>Local amount</th>\n",
       "      <th>Local currency</th>\n",
       "      <th>Notes and #tags</th>\n",
       "      <th>Address</th>\n",
       "      <th>Receipt</th>\n",
       "      <th>Description</th>\n",
       "      <th>Category split</th>\n",
       "    </tr>\n",
       "  </thead>\n",
       "  <tbody>\n",
       "    <tr>\n",
       "      <th>0</th>\n",
       "      <td>tx_00009jGereHTyV50ElCRLl</td>\n",
       "      <td>28/05/2019</td>\n",
       "      <td>11:30:19</td>\n",
       "      <td>Faster payment</td>\n",
       "      <td>DU PLESSIS J V B</td>\n",
       "      <td>NaN</td>\n",
       "      <td>Income</td>\n",
       "      <td>150.00</td>\n",
       "      <td>GBP</td>\n",
       "      <td>150.00</td>\n",
       "      <td>GBP</td>\n",
       "      <td>BARCLAYS</td>\n",
       "      <td>NaN</td>\n",
       "      <td>NaN</td>\n",
       "      <td>BARCLAYS</td>\n",
       "      <td>NaN</td>\n",
       "    </tr>\n",
       "    <tr>\n",
       "      <th>1</th>\n",
       "      <td>tx_00009jGsehBRGqJ8N1IJlp</td>\n",
       "      <td>28/05/2019</td>\n",
       "      <td>14:04:51</td>\n",
       "      <td>Card payment</td>\n",
       "      <td>Boots</td>\n",
       "      <td>💊</td>\n",
       "      <td>Medical</td>\n",
       "      <td>-2.79</td>\n",
       "      <td>GBP</td>\n",
       "      <td>-2.79</td>\n",
       "      <td>GBP</td>\n",
       "      <td>💊</td>\n",
       "      <td>198-200 Fulham Palace Road</td>\n",
       "      <td>NaN</td>\n",
       "      <td>BOOTS                  FULHAM        GBR</td>\n",
       "      <td>NaN</td>\n",
       "    </tr>\n",
       "  </tbody>\n",
       "</table>\n",
       "</div>"
      ],
      "text/plain": [
       "              Transaction ID        Date      Time            Type  \\\n",
       "0  tx_00009jGereHTyV50ElCRLl  28/05/2019  11:30:19  Faster payment   \n",
       "1  tx_00009jGsehBRGqJ8N1IJlp  28/05/2019  14:04:51    Card payment   \n",
       "\n",
       "               Name Emoji Category  Amount Currency  Local amount  \\\n",
       "0  DU PLESSIS J V B   NaN   Income  150.00      GBP        150.00   \n",
       "1             Boots     💊  Medical   -2.79      GBP         -2.79   \n",
       "\n",
       "  Local currency Notes and #tags                     Address Receipt  \\\n",
       "0            GBP        BARCLAYS                         NaN     NaN   \n",
       "1            GBP               💊  198-200 Fulham Palace Road     NaN   \n",
       "\n",
       "                                Description  Category split  \n",
       "0                                  BARCLAYS             NaN  \n",
       "1  BOOTS                  FULHAM        GBR             NaN  "
      ]
     },
     "execution_count": 4,
     "metadata": {},
     "output_type": "execute_result"
    }
   ],
   "source": [
    "data = pd.read_csv(f'../data/monzo.csv')\n",
    "data.head(2)"
   ]
  },
  {
   "cell_type": "code",
   "execution_count": 5,
   "metadata": {},
   "outputs": [
    {
     "data": {
      "text/plain": [
       "(6442, 16)"
      ]
     },
     "execution_count": 5,
     "metadata": {},
     "output_type": "execute_result"
    }
   ],
   "source": [
    "data.shape"
   ]
  },
  {
   "cell_type": "code",
   "execution_count": 6,
   "metadata": {},
   "outputs": [
    {
     "name": "stdout",
     "output_type": "stream",
     "text": [
      "<class 'pandas.core.frame.DataFrame'>\n",
      "RangeIndex: 6442 entries, 0 to 6441\n",
      "Data columns (total 16 columns):\n",
      " #   Column           Non-Null Count  Dtype  \n",
      "---  ------           --------------  -----  \n",
      " 0   Transaction ID   6442 non-null   object \n",
      " 1   Date             6442 non-null   object \n",
      " 2   Time             6442 non-null   object \n",
      " 3   Type             6442 non-null   object \n",
      " 4   Name             6437 non-null   object \n",
      " 5   Emoji            5394 non-null   object \n",
      " 6   Category         6442 non-null   object \n",
      " 7   Amount           6442 non-null   float64\n",
      " 8   Currency         6442 non-null   object \n",
      " 9   Local amount     6442 non-null   float64\n",
      " 10  Local currency   6442 non-null   object \n",
      " 11  Notes and #tags  1600 non-null   object \n",
      " 12  Address          4394 non-null   object \n",
      " 13  Receipt          7 non-null      object \n",
      " 14  Description      6238 non-null   object \n",
      " 15  Category split   0 non-null      float64\n",
      "dtypes: float64(3), object(13)\n",
      "memory usage: 805.4+ KB\n"
     ]
    }
   ],
   "source": [
    "data.info()"
   ]
  },
  {
   "cell_type": "markdown",
   "metadata": {},
   "source": [
    "# Exploratory Analysis"
   ]
  },
  {
   "cell_type": "code",
   "execution_count": 7,
   "metadata": {},
   "outputs": [
    {
     "data": {
      "text/plain": [
       "Type\n",
       "Card payment            5457\n",
       "Faster payment           557\n",
       "Pot transfer             142\n",
       "Direct Debit             110\n",
       "Monzo-to-Monzo            62\n",
       "Monzo Paid                32\n",
       "Flex                      30\n",
       "Account interest          23\n",
       "overdraft                 18\n",
       "Bacs (Direct Credit)       5\n",
       "wise_cashback              5\n",
       "ledger_adjustment          1\n",
       "Name: count, dtype: int64"
      ]
     },
     "execution_count": 7,
     "metadata": {},
     "output_type": "execute_result"
    }
   ],
   "source": [
    "data['Type'].value_counts()"
   ]
  },
  {
   "cell_type": "code",
   "execution_count": 8,
   "metadata": {},
   "outputs": [
    {
     "data": {
      "text/plain": [
       "Category\n",
       "Groceries              1548\n",
       "Travel                 1329\n",
       "General                 515\n",
       "Subscriptions           515\n",
       "Eating out              509\n",
       "Eating Out              401\n",
       "Smoking                 292\n",
       "Income                  248\n",
       "Transfers               218\n",
       "Other                   174\n",
       "Entertainment           134\n",
       "Bills                    98\n",
       "Shopping                 95\n",
       "Medical                  70\n",
       "Transport                59\n",
       "Credit Cards             38\n",
       "Savings                  31\n",
       "Holidays                 29\n",
       "Stuff                    28\n",
       "Telephone                21\n",
       "Revolut                  16\n",
       "PayPal                   14\n",
       "Rent                     12\n",
       "Online Subscription       9\n",
       "Family                    7\n",
       "Tax                       7\n",
       "Bank Charges              5\n",
       "Finances                  4\n",
       "Loans                     4\n",
       "Personal care             3\n",
       "Gifts                     3\n",
       "Holiday                   3\n",
       "Charity                   2\n",
       "Expenses                  1\n",
       "Name: count, dtype: int64"
      ]
     },
     "execution_count": 8,
     "metadata": {},
     "output_type": "execute_result"
    }
   ],
   "source": [
    "data['Category'].value_counts()"
   ]
  },
  {
   "cell_type": "code",
   "execution_count": null,
   "metadata": {},
   "outputs": [],
   "source": [
    "data['Type'].value_counts()"
   ]
  },
  {
   "cell_type": "code",
   "execution_count": null,
   "metadata": {},
   "outputs": [],
   "source": []
  }
 ],
 "metadata": {
  "kernelspec": {
   "display_name": "Python 3 (ipykernel)",
   "language": "python",
   "name": "python3"
  },
  "language_info": {
   "codemirror_mode": {
    "name": "ipython",
    "version": 3
   },
   "file_extension": ".py",
   "mimetype": "text/x-python",
   "name": "python",
   "nbconvert_exporter": "python",
   "pygments_lexer": "ipython3",
   "version": "3.12.1"
  },
  "widgets": {
   "application/vnd.jupyter.widget-state+json": {
    "state": {},
    "version_major": 2,
    "version_minor": 0
   }
  }
 },
 "nbformat": 4,
 "nbformat_minor": 4
}
